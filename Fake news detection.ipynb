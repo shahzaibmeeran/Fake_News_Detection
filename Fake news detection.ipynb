{
 "cells": [
  {
   "cell_type": "code",
   "execution_count": null,
   "id": "54567560-6fa8-46da-b6ae-ddb39d0c123e",
   "metadata": {},
   "outputs": [],
   "source": [
    "import pandas as pd\n",
    "import matplotlib.pyplot as plt\n",
    "from sklearn.model_selection import train_test_split\n",
    "from sklearn.pipeline import Pipeline\n",
    "from sklearn.feature_extraction.text import TfidfVectorizer, CountVectorizer\n",
    "from sklearn.linear_model import LogisticRegression\n",
    "from sklearn.metrics import classification_report, accuracy_score, confusion_matrix"
   ]
  },
  {
   "cell_type": "code",
   "execution_count": null,
   "id": "ab9c76d6-db72-45df-b065-7dd5c6f4d818",
   "metadata": {},
   "outputs": [],
   "source": [
    "df = pd.read_csv('True.csv')\n",
    "_df = pd.read_csv('Fake.csv')\n",
    "df\n",
    "_df"
   ]
  },
  {
   "cell_type": "code",
   "execution_count": null,
   "id": "ecfd269d-8ad6-45ed-93ed-492016b3e0ea",
   "metadata": {},
   "outputs": [],
   "source": [
    "print(\"True news shape:\", df.shape)\n",
    "print(\"Fake news shape:\", _df.shape)\n",
    "print(\"True news columns:\", df.columns.tolist())\n",
    "print(\"Fake news columns:\", _df.columns.tolist())"
   ]
  },
  {
   "cell_type": "code",
   "execution_count": null,
   "id": "d8ba4340-2e30-44d5-9bae-5581050e2bfd",
   "metadata": {},
   "outputs": [],
   "source": [
    "df['label'] = 'true'\n",
    "_df['label'] = 'fake'\n",
    "a_df = pd.concat([df, _df], ignore_index=True)\n",
    "a_df.drop_duplicates(inplace=True)\n",
    "print(\"\\nCombined dataset shape:\", df.shape)\n",
    "print(df['label'].value_counts())"
   ]
  },
  {
   "cell_type": "code",
   "execution_count": null,
   "id": "cb981534-6304-441a-b934-0924ff1b5bc1",
   "metadata": {},
   "outputs": [],
   "source": [
    "df.head()"
   ]
  },
  {
   "cell_type": "code",
   "execution_count": null,
   "id": "315212b4-a7b2-4dea-8cbd-da8498dd9047",
   "metadata": {},
   "outputs": [],
   "source": [
    "plt.figure()\n",
    "df['label'].value_counts().plot(kind='bar')\n",
    "plt.title('Class Distribution')\n",
    "plt.xlabel('Label')\n",
    "plt.ylabel('Count')\n",
    "plt.show()"
   ]
  },
  {
   "cell_type": "code",
   "execution_count": null,
   "id": "7d5e8db0-5b24-45f5-aef7-c40a6715a146",
   "metadata": {},
   "outputs": [],
   "source": [
    "a_df['text'] = a_df['text'].astype(str)\n",
    "X = a_df['text']\n",
    "y = a_df['label']"
   ]
  },
  {
   "cell_type": "code",
   "execution_count": null,
   "id": "0d2bd19a-38ca-41d1-9b86-35b7bda27b30",
   "metadata": {},
   "outputs": [],
   "source": [
    "X_train, X_test, y_train, y_test = train_test_split(\n",
    "    X, y, test_size=0.2, random_state=42, stratify=y\n",
    ")"
   ]
  },
  {
   "cell_type": "code",
   "execution_count": null,
   "id": "e06303b6-4985-4e8d-b44a-0fff9ac3b2d6",
   "metadata": {},
   "outputs": [],
   "source": [
    "bow_pipeline = Pipeline([\n",
    "    ('cv', CountVectorizer()),\n",
    "    ('clf', LogisticRegression(max_iter=1000)),\n",
    "])\n",
    "\n",
    "bow_pipeline.fit(X_train, y_train)\n",
    "y_pred = bow_pipeline.predict(X_test)\n",
    "\n",
    "# Evaluation\n",
    "print(\"\\nAccuracy:\", accuracy_score(y_test, y_pred))\n",
    "print(\"\\nClassification Report:\\n\", classification_report(y_test, y_pred))\n",
    "print(\"Confusion Matrix:\\n\", confusion_matrix(y_test, y_pred))\n"
   ]
  },
  {
   "cell_type": "code",
   "execution_count": null,
   "id": "a4b295a6-87e2-4fcc-b9b8-311df25b6209",
   "metadata": {},
   "outputs": [],
   "source": [
    "pipeline = Pipeline([\n",
    "    ('tfidf', TfidfVectorizer(stop_words='english')),\n",
    "    ('clf', LogisticRegression(max_iter=1000)),\n",
    "])\n",
    "\n",
    "pipeline.fit(X_train, y_train)\n",
    "y_pred = pipeline.predict(X_test)\n",
    "\n",
    "# Evaluation\n",
    "print(\"\\nAccuracy:\", accuracy_score(y_test, y_pred))\n",
    "print(\"\\nClassification Report:\\n\", classification_report(y_test, y_pred))\n",
    "print(\"Confusion Matrix:\\n\", confusion_matrix(y_test, y_pred))"
   ]
  },
  {
   "cell_type": "code",
   "execution_count": null,
   "id": "fa0d99b0-7b61-4df5-9780-0a3fe4714373",
   "metadata": {},
   "outputs": [],
   "source": [
    "import joblib\n",
    "\n",
    "joblib.dump(pipeline, 'Fake_news_detection.pkl')"
   ]
  },
  {
   "cell_type": "code",
   "execution_count": null,
   "id": "2bf6c9bf-5ed2-42c2-9169-fe8fd8d49b64",
   "metadata": {},
   "outputs": [],
   "source": []
  }
 ],
 "metadata": {
  "kernelspec": {
   "display_name": "Python 3 (ipykernel)",
   "language": "python",
   "name": "python3"
  },
  "language_info": {
   "codemirror_mode": {
    "name": "ipython",
    "version": 3
   },
   "file_extension": ".py",
   "mimetype": "text/x-python",
   "name": "python",
   "nbconvert_exporter": "python",
   "pygments_lexer": "ipython3",
   "version": "3.11.7"
  }
 },
 "nbformat": 4,
 "nbformat_minor": 5
}
